{
 "cells": [
  {
   "cell_type": "code",
   "execution_count": 1,
   "id": "738a9558",
   "metadata": {},
   "outputs": [],
   "source": [
    "import numpy as np\n",
    "import pandas as pd\n",
    "import string\n",
    "import nltk\n",
    "import itertools\n",
    "from wordcloud import WordCloud\n",
    "\n",
    "import matplotlib.pyplot as plt\n",
    "import seaborn as sns\n",
    "\n",
    "from sklearn.feature_extraction.text import TfidfVectorizer\n",
    "from sklearn.feature_extraction.text import CountVectorizer\n",
    "\n",
    "from sklearn.decomposition import PCA\n",
    "\n",
    "from sklearn.pipeline import Pipeline\n",
    "from sklearn.model_selection import train_test_split, GridSearchCV\n",
    "from sklearn.metrics import classification_report, confusion_matrix, roc_curve, f1_score, roc_auc_score\n",
    "from sklearn.compose import ColumnTransformer\n",
    "from sklearn.impute import SimpleImputer\n",
    "\n",
    "\n",
    "from sklearn.ensemble import RandomForestClassifier"
   ]
  },
  {
   "cell_type": "code",
   "execution_count": 2,
   "id": "046444e5",
   "metadata": {},
   "outputs": [
    {
     "name": "stderr",
     "output_type": "stream",
     "text": [
      "[nltk_data] Downloading package punkt to\n",
      "[nltk_data]     C:\\Users\\Admin\\AppData\\Roaming\\nltk_data...\n",
      "[nltk_data]   Package punkt is already up-to-date!\n",
      "[nltk_data] Downloading package stopwords to\n",
      "[nltk_data]     C:\\Users\\Admin\\AppData\\Roaming\\nltk_data...\n",
      "[nltk_data]   Package stopwords is already up-to-date!\n",
      "[nltk_data] Downloading package wordnet to\n",
      "[nltk_data]     C:\\Users\\Admin\\AppData\\Roaming\\nltk_data...\n",
      "[nltk_data]   Package wordnet is already up-to-date!\n",
      "[nltk_data] Downloading package omw-1.4 to\n",
      "[nltk_data]     C:\\Users\\Admin\\AppData\\Roaming\\nltk_data...\n",
      "[nltk_data]   Package omw-1.4 is already up-to-date!\n"
     ]
    },
    {
     "data": {
      "text/plain": [
       "True"
      ]
     },
     "execution_count": 2,
     "metadata": {},
     "output_type": "execute_result"
    }
   ],
   "source": [
    "nltk.download('punkt')\n",
    "nltk.download('stopwords')\n",
    "nltk.download('wordnet')\n",
    "nltk.download('omw-1.4')"
   ]
  },
  {
   "cell_type": "code",
   "execution_count": 3,
   "id": "a990b17a",
   "metadata": {},
   "outputs": [],
   "source": [
    "spam_dataset = pd.read_csv('spam.csv', encoding = \"ISO-8859-1\", usecols=[0, 1], names=['Spam', 'Text'],\n",
    "                           skiprows=1)\n",
    "spam_dataset['Spam'] = spam_dataset['Spam'].replace(['ham', 'spam'], [0, 1])"
   ]
  },
  {
   "cell_type": "code",
   "execution_count": 4,
   "id": "4272e183",
   "metadata": {},
   "outputs": [],
   "source": [
    "def remove_puncation(text):\n",
    "    cleaned = ''.join([word for word in text if word not in string.punctuation])\n",
    "    return cleaned\n",
    "spam_dataset['Cleaned_Text'] = spam_dataset['Text'].apply(lambda x: remove_puncation(x))\n",
    "\n",
    "def tokenize(text):\n",
    "\n",
    "    # Usunięcie wielkich liter\n",
    "    clean_text = text.lower()\n",
    "\n",
    "    # Tokenizacja\n",
    "    tokenized_text = nltk.word_tokenize(clean_text)\n",
    "    return tokenized_text\n",
    "\n",
    "spam_dataset['Tokenized_Text'] = spam_dataset['Cleaned_Text'].apply(lambda x: tokenize(x))\n",
    "\n",
    "stopwords = nltk.corpus.stopwords.words(\"english\")\n",
    "\n",
    "def remove_stopwords(text):\n",
    "    without_stopwords = [word for word in text if word not in stopwords]\n",
    "    return without_stopwords\n",
    "spam_dataset['WithoutStop_Text'] = spam_dataset['Tokenized_Text'].apply(lambda x: remove_stopwords(x))\n",
    "\n",
    "stemmer = nltk.PorterStemmer()\n",
    "def stemming(text):\n",
    "    stemmed_words = [stemmer.stem(word) for word in text]\n",
    "    return stemmed_words\n",
    "spam_dataset['Stemmed_Text'] = spam_dataset['WithoutStop_Text'].apply(lambda x: stemming(x))\n",
    "\n",
    "lemmater = nltk.WordNetLemmatizer()\n",
    "def lemmatizing(text):\n",
    "    lemmatized_words = [lemmater.lemmatize(word) for word in text]\n",
    "    return lemmatized_words\n",
    "spam_dataset['Lemmatized_Text'] = spam_dataset['WithoutStop_Text'].apply(lambda x: lemmatizing(x))"
   ]
  },
  {
   "cell_type": "code",
   "execution_count": 5,
   "id": "23505013",
   "metadata": {},
   "outputs": [],
   "source": [
    "words_spam = list(spam_dataset.loc[spam_dataset['Spam']==1, 'Lemmatized_Text'].values)\n",
    "words_spam = list(itertools.chain.from_iterable(words_spam))\n",
    "words_spam = ' '.join(words_spam)\n",
    "words_notspam = list(spam_dataset.loc[spam_dataset['Spam']==0, 'Lemmatized_Text'].values)\n",
    "words_notspam = list(itertools.chain.from_iterable(words_notspam))\n",
    "words_notspam = ' '.join(words_notspam)"
   ]
  },
  {
   "cell_type": "code",
   "execution_count": 6,
   "id": "3afc2c16",
   "metadata": {},
   "outputs": [],
   "source": [
    "metrics_dataframe = pd.DataFrame(columns = ['Model', 'F1_score', 'AUC'])\n",
    "metrics_dataframe\n",
    "models = []\n",
    "models_names = []\n",
    "predictions_proba_list = []\n",
    "\n",
    "def calculate_metrics(model, name, X_checked, y_checked):\n",
    "    models.append(model)\n",
    "    models_names.append(name)\n",
    "    global metrics_dataframe\n",
    "    predictions = model.predict(X_checked)\n",
    "    predictions_proba = model.predict_proba(X_checked)\n",
    "    predictions_proba_list.append(predictions_proba[:,1])\n",
    "\n",
    "    ############## metryki dla sprawdzanego modelu ################\n",
    "\n",
    "    # Precision, Recall, F1, Accuracy\n",
    "    print(classification_report(y_checked, predictions))\n",
    "\n",
    "    # Confusion matrix\n",
    "    plt.figure()\n",
    "    cm = confusion_matrix(y_checked, predictions)\n",
    "    ax = sns.heatmap(cm, annot=True, cmap='Blues', fmt='.0f')\n",
    "    ax.set_title('Confusion Matrix\\n\\n')\n",
    "    ax.set_xlabel('\\nPredicted Values')\n",
    "    ax.set_ylabel('Actual Values ')\n",
    "    plt.show()\n",
    "\n",
    "    # plot ROC curve\n",
    "    fig = plt.figure(figsize=(6, 6))\n",
    "    plt.plot([0, 1], [0, 1], 'k--')\n",
    "    for model_selected, name_selected, pred_proba in zip(models, models_names, predictions_proba_list):\n",
    "        fpr, tpr, thresholds = roc_curve(y_checked, pred_proba)\n",
    "        plt.plot(fpr, tpr, label=name_selected)\n",
    "    plt.xlabel('False Positive Rate')\n",
    "    plt.ylabel('True Positive Rate')\n",
    "    plt.title('ROC Curve')\n",
    "    plt.legend(loc='lower right')\n",
    "    plt.show()\n",
    "\n",
    "    f1_metric = f1_score(y_checked, predictions)\n",
    "    auc_metric = roc_auc_score(y_checked, predictions_proba[:,1])\n",
    "    metrics_dataframe = metrics_dataframe.append({'Model': name, 'F1_score': f1_metric, 'AUC': auc_metric},\n",
    "                                                 ignore_index=True)\n",
    "    return metrics_dataframe"
   ]
  },
  {
   "cell_type": "markdown",
   "id": "9cf06c81",
   "metadata": {},
   "source": [
    "# ZAMIANA TEKSTU W WEKTOR (TF-IDF)"
   ]
  },
  {
   "cell_type": "code",
   "execution_count": 7,
   "id": "01e1596e",
   "metadata": {},
   "outputs": [],
   "source": [
    "tfidf = TfidfVectorizer(ngram_range=(1, 1), max_df=0.5, min_df=0.001, use_idf=True)\n",
    "X = spam_dataset['Lemmatized_Text'].apply(lambda x: ' '.join(x))\n",
    "y = spam_dataset['Spam']\n",
    "\n",
    "\n",
    "X_train, X_test, y_train, y_test = train_test_split(X, y, test_size=0.25, random_state=42, stratify=y)"
   ]
  },
  {
   "cell_type": "code",
   "execution_count": 8,
   "id": "5c2224ec",
   "metadata": {},
   "outputs": [],
   "source": [
    "X_train_forest = tfidf.fit_transform(X_train)\n",
    "\n",
    "forest = RandomForestClassifier(n_estimators=1000, n_jobs=-1)\n",
    "forest = forest.fit(X_train_forest, y_train)"
   ]
  },
  {
   "cell_type": "code",
   "execution_count": 9,
   "id": "f1c170d3",
   "metadata": {},
   "outputs": [
    {
     "name": "stdout",
     "output_type": "stream",
     "text": [
      "Elapsed time to compute the importances: 0.107 seconds\n"
     ]
    }
   ],
   "source": [
    "import time\n",
    "import numpy as np\n",
    "\n",
    "start_time = time.time()\n",
    "importances = forest.feature_importances_\n",
    "std = np.std([tree.feature_importances_ for tree in forest.estimators_], axis=0)\n",
    "elapsed_time = time.time() - start_time\n",
    "\n",
    "print(f\"Elapsed time to compute the importances: {elapsed_time:.3f} seconds\")"
   ]
  },
  {
   "cell_type": "code",
   "execution_count": 10,
   "id": "1299ec0f",
   "metadata": {},
   "outputs": [],
   "source": [
    "indices = np.argsort(importances)"
   ]
  },
  {
   "cell_type": "code",
   "execution_count": 11,
   "id": "b21045ae",
   "metadata": {},
   "outputs": [
    {
     "data": {
      "text/plain": [
       "186"
      ]
     },
     "execution_count": 11,
     "metadata": {},
     "output_type": "execute_result"
    }
   ],
   "source": [
    "count = 0\n",
    "for x in importances:\n",
    "    if x > 0.001:\n",
    "        count+=1\n",
    "count"
   ]
  },
  {
   "cell_type": "code",
   "execution_count": 12,
   "id": "2d0e8a7c",
   "metadata": {},
   "outputs": [],
   "source": [
    "X_ = pd.DataFrame(X_train.copy())\n",
    "y_ = pd.DataFrame(y_train.copy())"
   ]
  },
  {
   "cell_type": "code",
   "execution_count": 13,
   "id": "0e2651df",
   "metadata": {},
   "outputs": [
    {
     "data": {
      "text/html": [
       "<div>\n",
       "<style scoped>\n",
       "    .dataframe tbody tr th:only-of-type {\n",
       "        vertical-align: middle;\n",
       "    }\n",
       "\n",
       "    .dataframe tbody tr th {\n",
       "        vertical-align: top;\n",
       "    }\n",
       "\n",
       "    .dataframe thead th {\n",
       "        text-align: right;\n",
       "    }\n",
       "</style>\n",
       "<table border=\"1\" class=\"dataframe\">\n",
       "  <thead>\n",
       "    <tr style=\"text-align: right;\">\n",
       "      <th></th>\n",
       "      <th>Spam</th>\n",
       "      <th>importances</th>\n",
       "    </tr>\n",
       "  </thead>\n",
       "  <tbody>\n",
       "    <tr>\n",
       "      <th>3675</th>\n",
       "      <td>0</td>\n",
       "      <td>0.002986</td>\n",
       "    </tr>\n",
       "    <tr>\n",
       "      <th>3392</th>\n",
       "      <td>0</td>\n",
       "      <td>0.001302</td>\n",
       "    </tr>\n",
       "    <tr>\n",
       "      <th>4261</th>\n",
       "      <td>0</td>\n",
       "      <td>0.001150</td>\n",
       "    </tr>\n",
       "    <tr>\n",
       "      <th>591</th>\n",
       "      <td>1</td>\n",
       "      <td>0.000186</td>\n",
       "    </tr>\n",
       "    <tr>\n",
       "      <th>4735</th>\n",
       "      <td>0</td>\n",
       "      <td>0.000220</td>\n",
       "    </tr>\n",
       "  </tbody>\n",
       "</table>\n",
       "</div>"
      ],
      "text/plain": [
       "      Spam  importances\n",
       "3675     0     0.002986\n",
       "3392     0     0.001302\n",
       "4261     0     0.001150\n",
       "591      1     0.000186\n",
       "4735     0     0.000220"
      ]
     },
     "execution_count": 13,
     "metadata": {},
     "output_type": "execute_result"
    }
   ],
   "source": [
    "X_ = X_.loc[X_.index[indices]]\n",
    "y_ = y_.loc[y_.index[indices]]\n",
    "X_[\"importances\"] = importances\n",
    "y_[\"importances\"] = importances\n",
    "y_.head()"
   ]
  },
  {
   "cell_type": "code",
   "execution_count": 14,
   "id": "ba1b6cf0",
   "metadata": {},
   "outputs": [],
   "source": [
    "X_ = X_[X_[\"importances\"] > 0.001]\n",
    "y_ = y_[y_[\"importances\"] > 0.001]"
   ]
  },
  {
   "cell_type": "code",
   "execution_count": 15,
   "id": "167c28b0",
   "metadata": {},
   "outputs": [],
   "source": [
    "X_imp = X_[\"Lemmatized_Text\"]\n",
    "y_imp = y_[\"Spam\"]"
   ]
  },
  {
   "cell_type": "code",
   "execution_count": 16,
   "id": "5edadffe",
   "metadata": {},
   "outputs": [
    {
     "data": {
      "text/plain": [
       "186"
      ]
     },
     "execution_count": 16,
     "metadata": {},
     "output_type": "execute_result"
    }
   ],
   "source": [
    "X_imp.size"
   ]
  },
  {
   "cell_type": "code",
   "execution_count": 17,
   "id": "0b946732",
   "metadata": {},
   "outputs": [
    {
     "data": {
      "text/plain": [
       "186"
      ]
     },
     "execution_count": 17,
     "metadata": {},
     "output_type": "execute_result"
    }
   ],
   "source": [
    "y_imp.size"
   ]
  },
  {
   "cell_type": "code",
   "execution_count": 18,
   "id": "10b8cc08",
   "metadata": {},
   "outputs": [
    {
     "name": "stdout",
     "output_type": "stream",
     "text": [
      "Fitting 5 folds for each of 64 candidates, totalling 320 fits\n",
      "Wybrane hiperparametry:  {'model__max_depth': 3, 'model__min_samples_leaf': 3, 'preprocessor__min_df': 0.01, 'preprocessor__ngram_range': (1, 1)}\n"
     ]
    }
   ],
   "source": [
    "model_pipeline = Pipeline(steps=[('preprocessor', TfidfVectorizer(ngram_range=(2, 2), max_df=0.5, min_df=0.001, use_idf=True)),\n",
    "                                 ('model', RandomForestClassifier(n_estimators=1000, n_jobs=-1))])\n",
    "\n",
    "params = {'model__max_depth': [3, 5, 10, 20],\n",
    "          'model__min_samples_leaf': [3, 5, 10, 15],\n",
    "          'preprocessor__min_df': [0.01, 0.001],\n",
    "          'preprocessor__ngram_range': [(1, 1), (2, 2)]}\n",
    "\n",
    "grid_search = GridSearchCV(model_pipeline, params, cv=5, n_jobs=-1, verbose=10, scoring='f1_macro')\n",
    "\n",
    "grid_search.fit(X_imp, y_imp)\n",
    "\n",
    "print('Wybrane hiperparametry: ', grid_search.best_params_)\n",
    "model_pipeline_v1 = grid_search.best_estimator_"
   ]
  },
  {
   "cell_type": "code",
   "execution_count": 19,
   "id": "2d9e3b52",
   "metadata": {},
   "outputs": [
    {
     "name": "stdout",
     "output_type": "stream",
     "text": [
      "              precision    recall  f1-score   support\n",
      "\n",
      "           0       0.87      1.00      0.93      1206\n",
      "           1       0.00      0.00      0.00       187\n",
      "\n",
      "    accuracy                           0.87      1393\n",
      "   macro avg       0.43      0.50      0.46      1393\n",
      "weighted avg       0.75      0.87      0.80      1393\n",
      "\n"
     ]
    },
    {
     "name": "stderr",
     "output_type": "stream",
     "text": [
      "C:\\Users\\Admin\\anaconda3\\lib\\site-packages\\sklearn\\metrics\\_classification.py:1318: UndefinedMetricWarning: Precision and F-score are ill-defined and being set to 0.0 in labels with no predicted samples. Use `zero_division` parameter to control this behavior.\n",
      "  _warn_prf(average, modifier, msg_start, len(result))\n",
      "C:\\Users\\Admin\\anaconda3\\lib\\site-packages\\sklearn\\metrics\\_classification.py:1318: UndefinedMetricWarning: Precision and F-score are ill-defined and being set to 0.0 in labels with no predicted samples. Use `zero_division` parameter to control this behavior.\n",
      "  _warn_prf(average, modifier, msg_start, len(result))\n",
      "C:\\Users\\Admin\\anaconda3\\lib\\site-packages\\sklearn\\metrics\\_classification.py:1318: UndefinedMetricWarning: Precision and F-score are ill-defined and being set to 0.0 in labels with no predicted samples. Use `zero_division` parameter to control this behavior.\n",
      "  _warn_prf(average, modifier, msg_start, len(result))\n"
     ]
    },
    {
     "data": {
      "image/png": "[encoded data removed]",
      "text/plain": [
       "<Figure size 640x480 with 2 Axes>"
      ]
     },
     "metadata": {},
     "output_type": "display_data"
    },
    {
     "data": {
      "image/png": "[encoded data removed]",
      "text/plain": [
       "<Figure size 600x600 with 1 Axes>"
      ]
     },
     "metadata": {},
     "output_type": "display_data"
    },
    {
     "name": "stderr",
     "output_type": "stream",
     "text": [
      "C:\\Users\\Admin\\AppData\\Local\\Temp\\ipykernel_916\\2055394858.py:43: FutureWarning: The frame.append method is deprecated and will be removed from pandas in a future version. Use pandas.concat instead.\n",
      "  metrics_dataframe = metrics_dataframe.append({'Model': name, 'F1_score': f1_metric, 'AUC': auc_metric},\n"
     ]
    },
    {
     "data": {
      "text/html": [
       "<div>\n",
       "<style scoped>\n",
       "    .dataframe tbody tr th:only-of-type {\n",
       "        vertical-align: middle;\n",
       "    }\n",
       "\n",
       "    .dataframe tbody tr th {\n",
       "        vertical-align: top;\n",
       "    }\n",
       "\n",
       "    .dataframe thead th {\n",
       "        text-align: right;\n",
       "    }\n",
       "</style>\n",
       "<table border=\"1\" class=\"dataframe\">\n",
       "  <thead>\n",
       "    <tr style=\"text-align: right;\">\n",
       "      <th></th>\n",
       "      <th>Model</th>\n",
       "      <th>F1_score</th>\n",
       "      <th>AUC</th>\n",
       "    </tr>\n",
       "  </thead>\n",
       "  <tbody>\n",
       "    <tr>\n",
       "      <th>0</th>\n",
       "      <td>Vector</td>\n",
       "      <td>0.0</td>\n",
       "      <td>0.942722</td>\n",
       "    </tr>\n",
       "  </tbody>\n",
       "</table>\n",
       "</div>"
      ],
      "text/plain": [
       "    Model  F1_score       AUC\n",
       "0  Vector       0.0  0.942722"
      ]
     },
     "execution_count": 19,
     "metadata": {},
     "output_type": "execute_result"
    }
   ],
   "source": [
    "calculate_metrics(model_pipeline_v1, 'Vector', X_test, y_test)"
   ]
  },
  {
   "cell_type": "code",
   "execution_count": 20,
   "id": "e1204d09",
   "metadata": {},
   "outputs": [
    {
     "name": "stdout",
     "output_type": "stream",
     "text": [
      "Fitting 5 folds for each of 64 candidates, totalling 320 fits\n",
      "Wybrane hiperparametry:  {'model__max_depth': 20, 'model__min_samples_leaf': 3, 'preprocessor__min_df': 0.001, 'preprocessor__ngram_range': (1, 1)}\n"
     ]
    }
   ],
   "source": [
    "model_pipeline_v2 = Pipeline(steps=[('preprocessor', CountVectorizer(min_df=0.001, max_df=0.5)),\n",
    "                                 ('model', RandomForestClassifier(n_estimators=1000, n_jobs=-1))])\n",
    "\n",
    "params = {'model__max_depth': [3, 5, 10, 20],\n",
    "          'model__min_samples_leaf': [3, 5, 10, 15],\n",
    "          'preprocessor__min_df': [0.01, 0.001],\n",
    "          'preprocessor__ngram_range': [(1, 1), (2, 2)]}\n",
    "\n",
    "grid_search = GridSearchCV(model_pipeline_v2, params, cv=5, n_jobs=-1, verbose=10, scoring='f1_macro')\n",
    "\n",
    "grid_search.fit(X_train, y_train)\n",
    "\n",
    "print('Wybrane hiperparametry: ', grid_search.best_params_)\n",
    "model_pipeline_v2 = grid_search.best_estimator_"
   ]
  },
  {
   "cell_type": "code",
   "execution_count": 21,
   "id": "85f9f20d",
   "metadata": {},
   "outputs": [
    {
     "name": "stdout",
     "output_type": "stream",
     "text": [
      "              precision    recall  f1-score   support\n",
      "\n",
      "           0       0.95      1.00      0.98      1206\n",
      "           1       1.00      0.67      0.81       187\n",
      "\n",
      "    accuracy                           0.96      1393\n",
      "   macro avg       0.98      0.84      0.89      1393\n",
      "weighted avg       0.96      0.96      0.95      1393\n",
      "\n"
     ]
    },
    {
     "data": {
      "image/png": "[encoded data removed]",
      "text/plain": [
       "<Figure size 640x480 with 2 Axes>"
      ]
     },
     "metadata": {},
     "output_type": "display_data"
    },
    {
     "data": {
      "image/png": "[encoded data removed]",
      "text/plain": [
       "<Figure size 600x600 with 1 Axes>"
      ]
     },
     "metadata": {},
     "output_type": "display_data"
    },
    {
     "name": "stderr",
     "output_type": "stream",
     "text": [
      "C:\\Users\\Admin\\AppData\\Local\\Temp\\ipykernel_916\\2055394858.py:43: FutureWarning: The frame.append method is deprecated and will be removed from pandas in a future version. Use pandas.concat instead.\n",
      "  metrics_dataframe = metrics_dataframe.append({'Model': name, 'F1_score': f1_metric, 'AUC': auc_metric},\n"
     ]
    },
    {
     "data": {
      "text/html": [
       "<div>\n",
       "<style scoped>\n",
       "    .dataframe tbody tr th:only-of-type {\n",
       "        vertical-align: middle;\n",
       "    }\n",
       "\n",
       "    .dataframe tbody tr th {\n",
       "        vertical-align: top;\n",
       "    }\n",
       "\n",
       "    .dataframe thead th {\n",
       "        text-align: right;\n",
       "    }\n",
       "</style>\n",
       "<table border=\"1\" class=\"dataframe\">\n",
       "  <thead>\n",
       "    <tr style=\"text-align: right;\">\n",
       "      <th></th>\n",
       "      <th>Model</th>\n",
       "      <th>F1_score</th>\n",
       "      <th>AUC</th>\n",
       "    </tr>\n",
       "  </thead>\n",
       "  <tbody>\n",
       "    <tr>\n",
       "      <th>0</th>\n",
       "      <td>Vector</td>\n",
       "      <td>0.000000</td>\n",
       "      <td>0.942722</td>\n",
       "    </tr>\n",
       "    <tr>\n",
       "      <th>1</th>\n",
       "      <td>Count</td>\n",
       "      <td>0.805112</td>\n",
       "      <td>0.978443</td>\n",
       "    </tr>\n",
       "  </tbody>\n",
       "</table>\n",
       "</div>"
      ],
      "text/plain": [
       "    Model  F1_score       AUC\n",
       "0  Vector  0.000000  0.942722\n",
       "1   Count  0.805112  0.978443"
      ]
     },
     "execution_count": 21,
     "metadata": {},
     "output_type": "execute_result"
    }
   ],
   "source": [
    "calculate_metrics(model_pipeline_v2, 'Count', X_test, y_test)"
   ]
  }
 ],
 "metadata": {
  "kernelspec": {
   "display_name": "Python 3 (ipykernel)",
   "language": "python",
   "name": "python3"
  },
  "language_info": {
   "codemirror_mode": {
    "name": "ipython",
    "version": 3
   },
   "file_extension": ".py",
   "mimetype": "text/x-python",
   "name": "python",
   "nbconvert_exporter": "python",
   "pygments_lexer": "ipython3",
   "version": "3.9.13"
  }
 },
 "nbformat": 4,
 "nbformat_minor": 5
}
